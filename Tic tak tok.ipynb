{
 "sells": [
  {
   "cell_type": "markdown",
   "id": "72b8e4ac-0d7b-4fb2-be10-20aa1cecba18",
   "metadata": {},
   "source": [
    "# Tic tak tok"
   ]
  },
  {
   "cell_type": "code",
   "execution_count": null,
   "id": "fa8e0637-4d65-48b0-b19d-eda7b9e8757d",
   "metadata": {},
   "outputs": [
    {
     "name": "stdout",
     "output_type": "stream",
     "text": [
      "Welcome to Tic Tac Toe\n",
      "0 | 1 | 2\n",
      "--|---|---\n",
      "3 | 4 | 5\n",
      "--|---|---\n",
      "6 | 7 | 8\n",
      "X's Chance\n"
     ]
    },
    {
     "name": "stdin",
     "output_type": "stream",
     "text": [
      "Please enter a value:  0\n"
     ]
    },
    {
     "name": "stdout",
     "output_type": "stream",
     "text": [
      "X | 1 | 2\n",
      "--|---|---\n",
      "3 | 4 | 5\n",
      "--|---|---\n",
      "6 | 7 | 8\n",
      "0's Chance\n"
     ]
    },
    {
     "name": "stdin",
     "output_type": "stream",
     "text": [
      "Please enter a value:  1\n"
     ]
    },
    {
     "name": "stdout",
     "output_type": "stream",
     "text": [
      "X | 0 | 2\n",
      "--|---|---\n",
      "3 | 4 | 5\n",
      "--|---|---\n",
      "6 | 7 | 8\n",
      "X's Chance\n"
     ]
    },
    {
     "name": "stdin",
     "output_type": "stream",
     "text": [
      "Please enter a value:  8\n"
     ]
    },
    {
     "name": "stdout",
     "output_type": "stream",
     "text": [
      "X | 0 | 2\n",
      "--|---|---\n",
      "3 | 4 | 5\n",
      "--|---|---\n",
      "6 | 7 | X\n",
      "0's Chance\n"
     ]
    }
   ],
   "source": [
    "def sum(a, b, c):\n",
    "    return a + b + c\n",
    "\n",
    "def printBoard(xState, zState):\n",
    "    zero = 'X' if xState[0] else ('0' if zState[0] else 0)\n",
    "    one = 'X' if xState[1] else ('0' if zState[1] else 1)\n",
    "    two = 'X' if xState[2] else ('0' if zState[2] else 2)\n",
    "    three = 'X' if xState[3] else ('0' if zState[3] else 3)\n",
    "    four = 'X' if xState[4] else ('0' if zState[4] else 4)\n",
    "    five = 'X' if xState[5] else ('0' if zState[5] else 5)\n",
    "    six = 'X' if xState[6] else ('0' if zState[6] else 6)\n",
    "    seven = 'X' if xState[7] else ('0' if zState[7] else 7)\n",
    "    eight = 'X' if xState[8] else ('0' if zState[8] else 8)\n",
    "\n",
    "    print(f\"{zero} | {one} | {two}\")\n",
    "    print(f\"--|---|---\")\n",
    "    print(f\"{three} | {four} | {five}\")\n",
    "    print(f\"--|---|---\")\n",
    "    print(f\"{six} | {seven} | {eight}\")\n",
    "\n",
    "def checkWin(xState, zState):\n",
    "    wins = [[0, 1, 2], [3, 4, 5], [6, 7, 8], [0, 3, 6], [1, 4, 7], [2, 5, 8], [0, 4, 8], [2, 4, 6]]\n",
    "    for win in wins:\n",
    "        if sum(xState[win[0]], xState[win[1]], xState[win[2]]) == 3:\n",
    "            print(\"X Won the match\")\n",
    "            return 1\n",
    "        if sum(zState[win[0]], zState[win[1]], zState[win[2]]) == 3:\n",
    "            print(\"0 Won the match\")\n",
    "            return 0\n",
    "    return -1\n",
    "\n",
    "if __name__ == \"__main__\":\n",
    "    xState = [0, 0, 0, 0, 0, 0, 0, 0, 0]\n",
    "    zState = [0, 0, 0, 0, 0, 0, 0, 0, 0]\n",
    "    turn = 1  # 1 for X and 0 for 0\n",
    "    print(\"Welcome to Tic Tac Toe\")\n",
    "    while True:\n",
    "        printBoard(xState, zState)\n",
    "        if turn == 1:\n",
    "            print(\"X's Chance\")\n",
    "            value = int(input(\"Please enter a value: \"))\n",
    "            xState[value] = 1\n",
    "        else:\n",
    "            print(\"0's Chance\")\n",
    "            value = int(input(\"Please enter a value: \"))\n",
    "            zState[value] = 1\n",
    "        cwin = checkWin(xState, zState)\n",
    "        if cwin != -1:\n",
    "            print(\"Match over\")\n",
    "            break\n",
    "        turn = 1 - turn"
   ]
  },
  {
   "cell_type": "code",
   "execution_count": 1,
   "id": "28e67684-256d-49f6-817f-bdea4dd96153",
   "metadata": {},
   "outputs": [
    {
     "name": "stdout",
     "output_type": "stream",
     "text": [
      " \t \t \t \t Snake,Water,Gun Game\n",
      " \n",
      "\n",
      "s for snake \n",
      "w for water \n",
      "g for gun \n",
      "\n"
     ]
    },
    {
     "name": "stdin",
     "output_type": "stream",
     "text": [
      "Snake,Water,Gun: 2\n"
     ]
    },
    {
     "name": "stdout",
     "output_type": "stream",
     "text": [
      "you have input wrong \n",
      "\n",
      "9 is left out of 10 \n",
      "\n"
     ]
    },
    {
     "name": "stdin",
     "output_type": "stream",
     "text": [
      "Snake,Water,Gun: 9\n"
     ]
    },
    {
     "name": "stdout",
     "output_type": "stream",
     "text": [
      "you have input wrong \n",
      "\n",
      "8 is left out of 10 \n",
      "\n"
     ]
    },
    {
     "name": "stdin",
     "output_type": "stream",
     "text": [
      "Snake,Water,Gun: snake\n"
     ]
    },
    {
     "name": "stdout",
     "output_type": "stream",
     "text": [
      "you have input wrong \n",
      "\n",
      "7 is left out of 10 \n",
      "\n"
     ]
    },
    {
     "name": "stdin",
     "output_type": "stream",
     "text": [
      "Snake,Water,Gun: 2\n"
     ]
    },
    {
     "name": "stdout",
     "output_type": "stream",
     "text": [
      "you have input wrong \n",
      "\n",
      "6 is left out of 10 \n",
      "\n"
     ]
    },
    {
     "name": "stdin",
     "output_type": "stream",
     "text": [
      "Snake,Water,Gun: 5\n"
     ]
    },
    {
     "name": "stdout",
     "output_type": "stream",
     "text": [
      "you have input wrong \n",
      "\n",
      "5 is left out of 10 \n",
      "\n"
     ]
    },
    {
     "name": "stdin",
     "output_type": "stream",
     "text": [
      "Snake,Water,Gun: 2\n"
     ]
    },
    {
     "name": "stdout",
     "output_type": "stream",
     "text": [
      "you have input wrong \n",
      "\n",
      "4 is left out of 10 \n",
      "\n"
     ]
    },
    {
     "name": "stdin",
     "output_type": "stream",
     "text": [
      "Snake,Water,Gun: 0\n"
     ]
    },
    {
     "name": "stdout",
     "output_type": "stream",
     "text": [
      "you have input wrong \n",
      "\n",
      "3 is left out of 10 \n",
      "\n"
     ]
    },
    {
     "name": "stdin",
     "output_type": "stream",
     "text": [
      "Snake,Water,Gun: 9\n"
     ]
    },
    {
     "name": "stdout",
     "output_type": "stream",
     "text": [
      "you have input wrong \n",
      "\n",
      "2 is left out of 10 \n",
      "\n"
     ]
    },
    {
     "name": "stdin",
     "output_type": "stream",
     "text": [
      "Snake,Water,Gun: 9\n"
     ]
    },
    {
     "name": "stdout",
     "output_type": "stream",
     "text": [
      "you have input wrong \n",
      "\n",
      "1 is left out of 10 \n",
      "\n"
     ]
    },
    {
     "name": "stdin",
     "output_type": "stream",
     "text": [
      "Snake,Water,Gun: o\n"
     ]
    },
    {
     "name": "stdout",
     "output_type": "stream",
     "text": [
      "you have input wrong \n",
      "\n",
      "0 is left out of 10 \n",
      "\n",
      "Game over\n",
      "Tie\n",
      "your point is 0 and computer point is 0\n"
     ]
    }
   ],
   "source": [
    "\n",
    "# Snake Water Gun Game in Python\n",
    "# The snake drinks the water, the gun shoots the snake, and gun has no effect on water.\n",
    "#\n",
    "\n",
    "  "
   ]
  },
  {
   "cell_type": "code",
   "execution_count": null,
   "id": "d0e3730d-52d5-436e-b71b-743513ac016b",
   "metadata": {},
   "outputs": [],
   "source": [
    "import random\n",
    "\n",
    "def check(comp, user):\n",
    "    if comp ==user:\n",
    "        return 0\n",
    "\n",
    "if(comp == 0 and user ==1):\n",
    "    return -1\n",
    "\n",
    "if(comp == 1 and user ==2):\n",
    "    return -1\n",
    "\n",
    "if(comp == 2 and user == 0):\n",
    "    return -1\n",
    "\n",
    "return 1\n",
    "comp = random.randint(0, 2)\n",
    "user = int(input(\"0 for Snake, 1 for water and 2 for Gun:\\n\"))\n",
    "\n",
    "\n",
    "score = check(comp, user)\n",
    "\n",
    "print(\"You: \", user)\n",
    "print(\"Computer: \", comp)\n",
    "if(score == 0):\n",
    "    print(\"Its a draw\")\n",
    "elif (score == -1):\n",
    "    print(\"You Lose\")\n",
    "else:\n",
    "    print(\"You Won\")"
   ]
  },
  {
   "cell_type": "code",
   "execution_count": null,
   "id": "cb68c3d4-80c0-4618-a487-e0f005c4aaf6",
   "metadata": {},
   "outputs": [],
   "source": [
    "import random\n",
    "\n",
    "def check(comp, user):\n",
    "    if comp == user:\n",
    "        return 0\n",
    "    if (comp == 0 and user == 1) or (comp == 1 and user == 2) or (comp == 2 and user == 0):\n",
    "        return -1\n",
    "    return 1\n",
    "\n",
    "comp = random.randint(0, 2)\n",
    "user = int(input(\"0 for Snake, 1 for Water, and 2 for Gun: \"))\n",
    "\n",
    "score = check(comp, user)\n",
    "\n",
    "print(\"You: \", user)\n",
    "print(\"Computer: \", comp)\n",
    "if score == 0:\n",
    "    print(\"It's a draw\")\n",
    "elif score == -1:\n",
    "    print(\"You lose\")\n",
    "else:\n",
    "    print(\"You win\")"
   ]
  },
  {
   "cell_type": "code",
   "execution_count": 1,
   "id": "73e5fae1-f9c4-42af-835a-4fe5ee63b5c5",
   "metadata": {},
   "outputs": [],
   "source": [
    "import pandas as pd\n",
    "import numpy as np\n",
    "import matplotlib.pyplot as plt\n",
    "%matplotlib inline\n",
    "import seaborn as sns\n",
    "## Display all the columns of the dataframe\n",
    "\n",
    "pd.pandas.set_option('display.max_columns',None)"
   ]
  },
  {
   "cell_type": "code",
   "execution_count": null,
   "id": "b46aa198-d51d-451c-994c-5ad26e2174c3",
   "metadata": {},
   "outputs": [],
   "source": [
    "dataset=pd.read_csv(r\"C:\\Ust(dataset.shape)"
   ]
  },
  {
   "cell_type": "code",
   "execution_count": null,
   "id": "3aa6dd11-8c27-4a67-b5b7-e0714913d077",
   "metadata": {},
   "outputs": [],
   "source": []
  },
  {
   "cell_type": "code",
   "execution_count": null,
   "id": "0fa94502-ea5e-4d39-9431-aecee03d2d94",
   "metadata": {},
   "outputs": [],
   "source": []
  },
  {
   "cell_type": "code",
   "execution_count": null,
   "id": "e9a368f5-4e8c-409f-8795-e275e915b848",
   "metadata": {},
   "outputs": [],
   "source": []
  }
 ],
 "metadata": {
  "kernelspec": {
   "display_name": "Python 3 (ipykernel)",
   "language": "python",
   "name": "python3"
  },
  "language_info": {
   "codemirror_mode": {
    "name": "ipython",
    "version": 3
   },
   "file_extension": ".py",
   "mimetype": "text/x-python",
   "name": "python",
   "nbconvert_exporter": "python",
   "pygments_lexer": "ipython3",
   "version": "3.11.7"
  }
 },
 "nbformat": 4,
 "nbformat_minor": 5
}
